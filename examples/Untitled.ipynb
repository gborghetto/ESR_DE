{
 "cells": [
  {
   "cell_type": "code",
   "execution_count": 6,
   "id": "a51cff1f-39a0-4991-b2f5-a7706f132685",
   "metadata": {},
   "outputs": [
    {
     "name": "stdout",
     "output_type": "stream",
     "text": [
      "Making output directory: /Users/giuliaborghetto/ESR/esr/function_library/ext_maths/compl_2/\n",
      "\n",
      "Number of topologies: 1\n",
      "[1 0] 8\n",
      "\n",
      "Original number of trees: 8\n",
      "1 of 1\n",
      "\n",
      "New number of trees: 8\n",
      "\n",
      "Max number of parameters: 1\n",
      "\n",
      "Getting extra_orig indices\n",
      "\n",
      "Sympy simplify\n",
      "\n",
      "Saving all equations\n",
      "\n",
      "Max number of parameters: 1\n",
      "Optimisation 0 8 8\n",
      "\tGetting unique functions\n",
      "\tGetting unique sympy\n",
      "\tGetting unique inverse subs\n",
      "\t\tnparam = 0\n",
      "\t\tnparam = 1\n",
      "\tMaking dict\n",
      "\tPrinting inv_subs to file\n",
      "\tPrinting inv to file\n",
      "Optimisation 1 6 8\n",
      "\tGetting unique functions\n",
      "\tGetting unique sympy\n",
      "\tGetting unique inverse subs\n",
      "\t\tnparam = 0\n",
      "\t\tnparam = 1\n",
      "\tMaking dict\n",
      "\tPrinting inv_subs to file\n",
      "\tPrinting inv to file\n",
      "\n",
      "Expanding\n",
      "\n",
      "Rewriting\n",
      "Optimisation 0 6 8\n",
      "\tGetting unique functions\n",
      "\tGetting unique sympy\n",
      "\tGetting unique inverse subs\n",
      "\t\tnparam = 0\n",
      "\t\tnparam = 1\n",
      "\tMaking dict\n",
      "\tPrinting inv_subs to file\n",
      "\tPrinting inv to file\n",
      "\n",
      "Final factorisation\n",
      "\n",
      "Shuffling\n",
      "\n",
      "***********************************\n",
      "\n",
      "For complexity 2:\n",
      "Total unique: 6 (8)\n",
      "Functions with 0 parameters: 4 (4)\n",
      "Functions with 1 parameter: 2 (4)\n",
      "\n",
      "***********************************\n",
      "\n",
      "\n",
      "Saving results:\n",
      "\tUnique equations\n",
      "\tMatches\n",
      "\n",
      "Combining Inverse Subs\n",
      "Round 1 of 3\n",
      "Round 2 of 3\n",
      "Round 3 of 3\n",
      "\n",
      "Removing unnecessary inv_subs\n",
      "\n",
      "Saving Inverse Subs\n",
      "\n",
      "Checking Results\n"
     ]
    }
   ],
   "source": [
    "import esr.generation.duplicate_checker\n",
    "\n",
    "runname = 'ext_maths'\n",
    "comp = 2\n",
    "esr.generation.duplicate_checker.main(runname, comp)"
   ]
  },
  {
   "cell_type": "code",
   "execution_count": 1,
   "id": "3d940ee3-7938-4001-8a11-1c4759d88cd6",
   "metadata": {},
   "outputs": [
    {
     "name": "stderr",
     "output_type": "stream",
     "text": [
      "[MacBook-Pro-52.local:89029] shmem: mmap: an error occurred while determining whether or not /var/folders/73/51k60xm12sq1d8rpjhqrp9l80000gn/T//ompi.MacBook-Pro-52.501/jf.0/3196125184/sm_segment.MacBook-Pro-52.501.be810000.0 could be created.\n"
     ]
    }
   ],
   "source": [
    "import esr.fitting.test_all\n",
    "import esr.fitting.test_all_Fisher\n",
    "import esr.fitting.match\n",
    "import esr.fitting.combine_DL\n",
    "import esr.fitting.plot\n",
    "from esr.fitting.likelihood import DESILikelihood\n",
    "from esr.background_solver.Quintessence import QuintessenceSolver\n",
    "from esr.background_solver.Solver_ESR_wrapper import QuintessenceDESILikelihood"
   ]
  },
  {
   "cell_type": "code",
   "execution_count": null,
   "id": "9f628832-5c28-430f-82fe-407f3b9f5add",
   "metadata": {},
   "outputs": [
    {
     "name": "stdout",
     "output_type": "stream",
     "text": [
      "\n",
      "Running fits\n",
      "Number of cores: 1\n",
      "Total number of functions:  6\n",
      "Number of test points per proc:  6\n",
      "1 of 6\n"
     ]
    }
   ],
   "source": [
    "comp = 2\n",
    "runname = 'ext_maths'\n",
    "likelihood = QuintessenceDESILikelihood(fn_set='ext_maths')\n",
    "esr.fitting.test_all.main(comp, likelihood)\n",
    "esr.fitting.test_all_Fisher.main(comp, likelihood)\n",
    "esr.fitting.match.main(comp, likelihood)\n",
    "esr.fitting.combine_DL.main(comp, likelihood)\n",
    "esr.fitting.plot.main(comp, likelihood)"
   ]
  },
  {
   "cell_type": "code",
   "execution_count": null,
   "id": "5bba4515-7827-4f8b-82d2-9fbb27bb31a3",
   "metadata": {},
   "outputs": [],
   "source": [
    "likelihood = QuintessenceDESILikelihood(fn_set='ext_maths', verbose=False)\n",
    "result = likelihood.test_function(\"x**2\", [])\n",
    "print(result)"
   ]
  },
  {
   "cell_type": "code",
   "execution_count": 4,
   "id": "eb45a67f-940e-4be9-8eb9-99984e4c5117",
   "metadata": {},
   "outputs": [
    {
     "name": "stdout",
     "output_type": "stream",
     "text": [
      "Testing bridge creation...\n",
      "Bridge creation took: 0.00 seconds\n",
      "Testing function conversion...\n",
      "Function conversion took: 0.01 seconds\n",
      "Testing background solving...\n",
      "Tuned amplitude: 9.770e-03, converged: True\n",
      "Background solving took: 0.79 seconds\n",
      "Result: True\n"
     ]
    }
   ],
   "source": [
    "import time\n",
    "\n",
    "# Test 1: Just the bridge creation\n",
    "print(\"Testing bridge creation...\")\n",
    "start = time.time()\n",
    "from esr.background_solver.Solver_ESR_wrapper import QuintessenceESRBridge\n",
    "bridge = QuintessenceESRBridge(verbose=True)\n",
    "print(f\"Bridge creation took: {time.time() - start:.2f} seconds\")\n",
    "\n",
    "# Test 2: Simple function conversion (no ODE solving)\n",
    "print(\"Testing function conversion...\")\n",
    "start = time.time()\n",
    "V_func, dV_func = bridge.esr_function_to_potential_functions(\"exp(a0*x)\", [0.1])\n",
    "print(f\"Function conversion took: {time.time() - start:.2f} seconds\")\n",
    "\n",
    "# Test 3: Background solving (this is likely the bottleneck)\n",
    "print(\"Testing background solving...\")\n",
    "start = time.time()\n",
    "result = bridge.solve_background(\"exp(a0*x)\", [0.1])\n",
    "print(f\"Background solving took: {time.time() - start:.2f} seconds\")\n",
    "print(f\"Result: {result is not None and result[0] is not None}\")"
   ]
  },
  {
   "cell_type": "code",
   "execution_count": null,
   "id": "7812ba91-7b7e-402d-82e0-640feae84966",
   "metadata": {},
   "outputs": [],
   "source": []
  }
 ],
 "metadata": {
  "kernelspec": {
   "display_name": "Python 3 (ipykernel)",
   "language": "python",
   "name": "python3"
  },
  "language_info": {
   "codemirror_mode": {
    "name": "ipython",
    "version": 3
   },
   "file_extension": ".py",
   "mimetype": "text/x-python",
   "name": "python",
   "nbconvert_exporter": "python",
   "pygments_lexer": "ipython3",
   "version": "3.10.16"
  }
 },
 "nbformat": 4,
 "nbformat_minor": 5
}
